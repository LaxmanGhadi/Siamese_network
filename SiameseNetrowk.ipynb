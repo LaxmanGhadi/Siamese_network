{
 "cells": [
  {
   "cell_type": "markdown",
   "id": "1a78c6c9-05d7-4084-8734-7ec5a387cc6a",
   "metadata": {},
   "source": [
    "Imports"
   ]
  },
  {
   "cell_type": "code",
   "execution_count": 1,
   "id": "0ef2eea9-1faf-4d7a-abed-73d9d94f50ac",
   "metadata": {},
   "outputs": [],
   "source": [
    "import numpy \n",
    "import tensorflow as tf\n",
    "import matplotlib.pyplot as plt\n",
    "import cv2 \n",
    "import os\n",
    "import random\n",
    "import uuid"
   ]
  },
  {
   "cell_type": "code",
   "execution_count": 2,
   "id": "dc414932-6688-4730-8788-5c3f7aa926e3",
   "metadata": {},
   "outputs": [],
   "source": [
    "from tensorflow.keras.models import Model\n",
    "from tensorflow.keras.layers import Layer, Conv2D, MaxPooling2D,Input,Flatten,Dense"
   ]
  },
  {
   "cell_type": "code",
   "execution_count": 3,
   "id": "b8a7cf33-eaa0-46e5-b944-038a2c634900",
   "metadata": {},
   "outputs": [],
   "source": [
    "gpus = tf.config.experimental.list_physical_devices('GPU')\n",
    "for gpu in gpus:\n",
    "     tf.config.experimental.set_memory_growth(gpu,True)"
   ]
  },
  {
   "cell_type": "markdown",
   "id": "6a68f3a8-d214-4fed-83d6-3d42b50da14f",
   "metadata": {},
   "source": [
    "Paths"
   ]
  },
  {
   "cell_type": "code",
   "execution_count": 4,
   "id": "653e2a83-0b0d-4229-8c37-7c0d18d7329f",
   "metadata": {},
   "outputs": [],
   "source": [
    "pos = os.path.join('positive')\n",
    "neg = os.path.join('negative')\n",
    "anc = os.path.join('anchor')"
   ]
  },
  {
   "cell_type": "code",
   "execution_count": 5,
   "id": "8b5d83a4-d8eb-4016-b3e8-35ee5e66d324",
   "metadata": {},
   "outputs": [
    {
     "data": {
      "text/plain": [
       "<module 'os' from 'C:\\\\Users\\\\Com\\\\anaconda3\\\\envs\\\\tFlow\\\\lib\\\\os.py'>"
      ]
     },
     "execution_count": 5,
     "metadata": {},
     "output_type": "execute_result"
    }
   ],
   "source": [
    "os"
   ]
  },
  {
   "cell_type": "code",
   "execution_count": 6,
   "id": "72e72af0-df7d-4878-9ed9-2a2f6145999d",
   "metadata": {},
   "outputs": [
    {
     "name": "stderr",
     "output_type": "stream",
     "text": [
      "tar: Error opening archive: Failed to open 'lfw.tgz'\n"
     ]
    }
   ],
   "source": [
    "!tar -xf lfw.tgz"
   ]
  },
  {
   "cell_type": "code",
   "execution_count": 7,
   "id": "8363992a-adf1-4b46-bf14-a0da1fca4cd1",
   "metadata": {},
   "outputs": [
    {
     "ename": "FileNotFoundError",
     "evalue": "[WinError 3] The system cannot find the path specified: 'lfw'",
     "output_type": "error",
     "traceback": [
      "\u001b[1;31m---------------------------------------------------------------------------\u001b[0m",
      "\u001b[1;31mFileNotFoundError\u001b[0m                         Traceback (most recent call last)",
      "Cell \u001b[1;32mIn[7], line 1\u001b[0m\n\u001b[1;32m----> 1\u001b[0m \u001b[38;5;28;01mfor\u001b[39;00m \u001b[38;5;28mdir\u001b[39m \u001b[38;5;129;01min\u001b[39;00m \u001b[43mos\u001b[49m\u001b[38;5;241;43m.\u001b[39;49m\u001b[43mlistdir\u001b[49m\u001b[43m(\u001b[49m\u001b[38;5;124;43m'\u001b[39;49m\u001b[38;5;124;43mlfw\u001b[39;49m\u001b[38;5;124;43m'\u001b[39;49m\u001b[43m)\u001b[49m:\n\u001b[0;32m      2\u001b[0m     \u001b[38;5;28;01mfor\u001b[39;00m file \u001b[38;5;129;01min\u001b[39;00m os\u001b[38;5;241m.\u001b[39mlistdir(os\u001b[38;5;241m.\u001b[39mpath\u001b[38;5;241m.\u001b[39mjoin(\u001b[38;5;124m'\u001b[39m\u001b[38;5;124mlfw\u001b[39m\u001b[38;5;124m'\u001b[39m,\u001b[38;5;28mdir\u001b[39m)):\n\u001b[0;32m      3\u001b[0m         old_path \u001b[38;5;241m=\u001b[39m  os\u001b[38;5;241m.\u001b[39mpath\u001b[38;5;241m.\u001b[39mjoin(\u001b[38;5;124m'\u001b[39m\u001b[38;5;124mlfw\u001b[39m\u001b[38;5;124m'\u001b[39m,\u001b[38;5;28mdir\u001b[39m,file)\n",
      "\u001b[1;31mFileNotFoundError\u001b[0m: [WinError 3] The system cannot find the path specified: 'lfw'"
     ]
    }
   ],
   "source": [
    "# for dir in os.listdir('lfw'):\n",
    "#     for file in os.listdir(os.path.join('lfw',dir)):\n",
    "#         old_path =  os.path.join('lfw',dir,file)\n",
    "#         new_path = os.path.join(neg, file)\n",
    "#         os.replace(old_path, new_path)"
   ]
  },
  {
   "cell_type": "code",
   "execution_count": null,
   "id": "88704ab3-419e-4fde-9d83-97352c649f02",
   "metadata": {},
   "outputs": [],
   "source": [
    "cap = cv2.VideoCapture(0)\n",
    "a_count = 0 \n",
    "p_count = 0\n",
    "while cap.isOpened(): \n",
    "    ret, frame = cap.read()\n",
    "    frame = frame[120:120+250,200:200+250, :]\n",
    "    if cv2.waitKey(1) & 0XFF == ord('a'):\n",
    "        print('frame no {}'.format(a_count))\n",
    "        imgname = os.path.join(anc, '{}.jpg'.format(uuid.uuid1()))\n",
    "        cv2.imwrite(imgname, frame)\n",
    "        a_count+=1\n",
    "    if cv2.waitKey(1) & 0XFF == ord('p'):\n",
    "        print('frame no {}'.format(p_count))\n",
    "        imgname = os.path.join(pos, '{}.jpg'.format(uuid.uuid1()))\n",
    "        cv2.imwrite(imgname, frame)\n",
    "        p_count+=1\n",
    "    cv2.imshow('Image Collection', frame)\n",
    "    if cv2.waitKey(1) & 0XFF == ord('q'):\n",
    "        break\n",
    "cap.release()\n",
    "cv2.destroyAllWindows()"
   ]
  },
  {
   "cell_type": "markdown",
   "id": "12454af1-167f-4de3-889f-f49855854b50",
   "metadata": {},
   "source": [
    "tf.data.Dataset.list_files creates pipeline for all files in directory "
   ]
  },
  {
   "cell_type": "code",
   "execution_count": 9,
   "id": "e8d38f8e-f736-4f73-9976-178fa2382f7f",
   "metadata": {},
   "outputs": [],
   "source": [
    "anchor  = tf.data.Dataset.list_files('anchor'+'\\*.jpg').take(500)\n",
    "positive  = tf.data.Dataset.list_files('positive'+'\\*.jpg').take(500)\n",
    "negative  = tf.data.Dataset.list_files('negative'+'\\*.jpg').take(500)"
   ]
  },
  {
   "cell_type": "code",
   "execution_count": 10,
   "id": "394c0c16-c232-4cc1-a571-b78848fb4489",
   "metadata": {},
   "outputs": [
    {
     "name": "stdout",
     "output_type": "stream",
     "text": [
      "<class 'tensorflow.python.data.ops.dataset_ops.TakeDataset'>\n"
     ]
    }
   ],
   "source": [
    "print(type(anchor))"
   ]
  },
  {
   "cell_type": "code",
   "execution_count": 11,
   "id": "08127e6c-834d-4e82-ae30-b634c1d9a064",
   "metadata": {},
   "outputs": [],
   "source": [
    "dir_test = anchor.as_numpy_iterator()"
   ]
  },
  {
   "cell_type": "code",
   "execution_count": 12,
   "id": "ae6e9650-3557-47ba-85a9-32709764ea96",
   "metadata": {},
   "outputs": [
    {
     "data": {
      "text/plain": [
       "b'anchor\\\\fb0f147f-079d-11ef-8171-7066553b5cdc.jpg'"
      ]
     },
     "execution_count": 12,
     "metadata": {},
     "output_type": "execute_result"
    }
   ],
   "source": [
    "dir_test.next()"
   ]
  },
  {
   "cell_type": "code",
   "execution_count": 13,
   "id": "3ad49113-2dd9-4e16-8ed6-bb06baad0457",
   "metadata": {},
   "outputs": [],
   "source": [
    "def normalization(file_path):\n",
    "    byte_img = tf.io.read_file(file_path)\n",
    "    img = tf.io.decode_jpeg(byte_img)\n",
    "    img = tf.image.resize(img,(100,100))\n",
    "    img = img/255.0\n",
    "    return img"
   ]
  },
  {
   "cell_type": "code",
   "execution_count": 16,
   "id": "0c298b31-eb0f-43fd-997a-f375c5779d42",
   "metadata": {},
   "outputs": [],
   "source": [
    "nor = normalization('anchor\\\\e031edb8-079d-11ef-9607-7066553b5cdc.jpg')"
   ]
  },
  {
   "cell_type": "code",
   "execution_count": 17,
   "id": "cb03a3bb-96b9-444c-9516-829427c17eb5",
   "metadata": {},
   "outputs": [
    {
     "data": {
      "text/plain": [
       "<tf.Tensor: shape=(100, 100, 3), dtype=float32, numpy=\n",
       "array([[[0.6735294 , 0.66568625, 0.6696078 ],\n",
       "        [0.6843137 , 0.6666667 , 0.6696078 ],\n",
       "        [0.6997549 , 0.67034316, 0.6644608 ],\n",
       "        ...,\n",
       "        [0.8264706 , 0.8254902 , 0.8362745 ],\n",
       "        [0.81960785, 0.8156863 , 0.8382353 ],\n",
       "        [0.83137256, 0.827451  , 0.8509804 ]],\n",
       "\n",
       "       [[0.67107844, 0.66519606, 0.6661765 ],\n",
       "        [0.67009807, 0.6632353 , 0.65686274],\n",
       "        [0.6884804 , 0.65882355, 0.6627451 ],\n",
       "        ...,\n",
       "        [0.8281863 , 0.8262255 , 0.84583336],\n",
       "        [0.80784315, 0.80588233, 0.8276961 ],\n",
       "        [0.8129902 , 0.8159314 , 0.8384804 ]],\n",
       "\n",
       "       [[0.67745095, 0.68039215, 0.6637255 ],\n",
       "        [0.6813725 , 0.6745098 , 0.6696078 ],\n",
       "        [0.6742647 , 0.6526961 , 0.6639706 ],\n",
       "        ...,\n",
       "        [0.8208333 , 0.8247549 , 0.84436274],\n",
       "        [0.8252451 , 0.8269608 , 0.85318625],\n",
       "        [0.81764704, 0.8264706 , 0.85490197]],\n",
       "\n",
       "       ...,\n",
       "\n",
       "       [[0.13137256, 0.11470588, 0.13137256],\n",
       "        [0.06495098, 0.05122549, 0.05857843],\n",
       "        [0.06642157, 0.05931373, 0.05563726],\n",
       "        ...,\n",
       "        [0.03235294, 0.04901961, 0.06078431],\n",
       "        [0.02794118, 0.04460784, 0.05637255],\n",
       "        [0.01960784, 0.03627451, 0.04803922]],\n",
       "\n",
       "       [[0.05441177, 0.04852941, 0.07892157],\n",
       "        [0.0627451 , 0.05710784, 0.08039216],\n",
       "        [0.03431373, 0.03161765, 0.04313726],\n",
       "        ...,\n",
       "        [0.01887255, 0.0495098 , 0.05171569],\n",
       "        [0.03014706, 0.05857843, 0.06740196],\n",
       "        [0.05514706, 0.0747549 , 0.08651961]],\n",
       "\n",
       "       [[0.05882353, 0.0627451 , 0.07205883],\n",
       "        [0.05196078, 0.05686275, 0.06176471],\n",
       "        [0.05196078, 0.05980392, 0.05588235],\n",
       "        ...,\n",
       "        [0.02205882, 0.06715687, 0.06029412],\n",
       "        [0.02720588, 0.06348039, 0.05955882],\n",
       "        [0.03161765, 0.06691176, 0.0629902 ]]], dtype=float32)>"
      ]
     },
     "execution_count": 17,
     "metadata": {},
     "output_type": "execute_result"
    }
   ],
   "source": [
    "nor"
   ]
  },
  {
   "cell_type": "markdown",
   "id": "fc43ed7b-12de-41c0-8749-3441cc0d5343",
   "metadata": {},
   "source": [
    "from_tensor_slices gives slices of numpy array as object "
   ]
  },
  {
   "cell_type": "code",
   "execution_count": 18,
   "id": "f15ebdd7-d8a0-41fe-b2c0-2f32ffc48bd7",
   "metadata": {},
   "outputs": [],
   "source": [
    "Positive_imgs = tf.data.Dataset.zip((anchor,positive, tf.data.Dataset.from_tensor_slices(tf.ones(len(anchor)))))\n",
    "Negative_imgs = tf.data.Dataset.zip((anchor,negative, tf.data.Dataset.from_tensor_slices(tf.zeros(len(anchor)))))"
   ]
  },
  {
   "cell_type": "code",
   "execution_count": 19,
   "id": "058536c4-ba88-49c2-ba05-602e70f4283c",
   "metadata": {},
   "outputs": [],
   "source": [
    "Data = Positive_imgs.concatenate(Negative_imgs)"
   ]
  },
  {
   "cell_type": "code",
   "execution_count": 20,
   "id": "3bc2a123-b4ac-4dff-9ca7-321ae0b4c6f8",
   "metadata": {},
   "outputs": [],
   "source": [
    "sample = Data.as_numpy_iterator()"
   ]
  },
  {
   "cell_type": "code",
   "execution_count": 21,
   "id": "5eb83989-7f95-4676-ac48-af3ab5fa57d8",
   "metadata": {},
   "outputs": [],
   "source": [
    "example = sample.next()"
   ]
  },
  {
   "cell_type": "code",
   "execution_count": 22,
   "id": "7ddfe376-e284-4467-99d9-b6e3ee682ed1",
   "metadata": {},
   "outputs": [
    {
     "data": {
      "text/plain": [
       "(b'anchor\\\\fae8cdf8-079d-11ef-9e2c-7066553b5cdc.jpg',\n",
       " b'positive\\\\5af4530c-079e-11ef-9673-7066553b5cdc.jpg',\n",
       " 1.0)"
      ]
     },
     "execution_count": 22,
     "metadata": {},
     "output_type": "execute_result"
    }
   ],
   "source": [
    "example"
   ]
  },
  {
   "cell_type": "code",
   "execution_count": 23,
   "id": "4bd9d6d3-5257-4d86-8b5a-8d420fb6ed45",
   "metadata": {},
   "outputs": [],
   "source": [
    "def preprocess_join(input_img, val_img, label):\n",
    "    return (normalization(input_img),normalization(val_img),label)"
   ]
  },
  {
   "cell_type": "code",
   "execution_count": 24,
   "id": "7be67f26-ff4b-4a2a-b27c-52c56eeb411c",
   "metadata": {},
   "outputs": [
    {
     "data": {
      "text/plain": [
       "<ShuffleDataset shapes: ((100, 100, None), (100, 100, None), ()), types: (tf.float32, tf.float32, tf.float32)>"
      ]
     },
     "execution_count": 24,
     "metadata": {},
     "output_type": "execute_result"
    }
   ],
   "source": [
    "Data = Data.map(preprocess_join)\n",
    "Data = Data.cache()\n",
    "Data.shuffle(buffer_size= 1024)"
   ]
  },
  {
   "cell_type": "code",
   "execution_count": 25,
   "id": "f54e29a1-2cdc-4c34-96f0-5e47b63d241d",
   "metadata": {},
   "outputs": [],
   "source": [
    "data =  Data.as_numpy_iterator()\n",
    "d = data.next()"
   ]
  },
  {
   "cell_type": "code",
   "execution_count": 26,
   "id": "45de73fd-477f-4f09-a23b-3773c62e6b93",
   "metadata": {},
   "outputs": [
    {
     "data": {
      "text/plain": [
       "(array([[[0.6431373 , 0.627451  , 0.62352943],\n",
       "         [0.6431373 , 0.627451  , 0.6254902 ],\n",
       "         [0.64240193, 0.62671566, 0.6306372 ],\n",
       "         ...,\n",
       "         [0.7703431 , 0.7727941 , 0.79019606],\n",
       "         [0.76862746, 0.779902  , 0.80539215],\n",
       "         [0.7678922 , 0.7796569 , 0.814951  ]],\n",
       " \n",
       "        [[0.6460784 , 0.6284314 , 0.6254902 ],\n",
       "         [0.6497549 , 0.63210785, 0.6311275 ],\n",
       "         [0.64754903, 0.62990195, 0.63480395],\n",
       "         ...,\n",
       "         [0.75490195, 0.76862746, 0.79068625],\n",
       "         [0.7556372 , 0.7752451 , 0.7987745 ],\n",
       "         [0.74485296, 0.76642156, 0.78995097]],\n",
       " \n",
       "        [[0.6519608 , 0.6284314 , 0.6284314 ],\n",
       "         [0.6573529 , 0.6338235 , 0.6343137 ],\n",
       "         [0.6497549 , 0.6306372 , 0.63039213],\n",
       "         ...,\n",
       "         [0.75392157, 0.7735294 , 0.7970588 ],\n",
       "         [0.7639706 , 0.7894608 , 0.8129902 ],\n",
       "         [0.7441176 , 0.7745098 , 0.7892157 ]],\n",
       " \n",
       "        ...,\n",
       " \n",
       "        [[0.6732843 , 0.65955883, 0.6394608 ],\n",
       "         [0.7012255 , 0.68333334, 0.6742647 ],\n",
       "         [0.54558825, 0.5377451 , 0.54093134],\n",
       "         ...,\n",
       "         [0.03210784, 0.06740196, 0.0620098 ],\n",
       "         [0.03578432, 0.07107843, 0.05980392],\n",
       "         [0.03137255, 0.06666667, 0.05490196]],\n",
       " \n",
       "        [[0.7321078 , 0.7007353 , 0.68897057],\n",
       "         [0.47745097, 0.46470588, 0.46200982],\n",
       "         [0.0875    , 0.10220588, 0.11102941],\n",
       "         ...,\n",
       "         [0.02671569, 0.0620098 , 0.05808824],\n",
       "         [0.01617647, 0.04485294, 0.03946079],\n",
       "         [0.04191177, 0.08014706, 0.07426471]],\n",
       " \n",
       "        [[0.42328432, 0.41151962, 0.39264706],\n",
       "         [0.0254902 , 0.0379902 , 0.02769608],\n",
       "         [0.03014706, 0.0759804 , 0.075     ],\n",
       "         ...,\n",
       "         [0.04313726, 0.08235294, 0.07843138],\n",
       "         [0.03627451, 0.0754902 , 0.07156863],\n",
       "         [0.0254902 , 0.06470589, 0.06078431]]], dtype=float32),\n",
       " array([[[7.46323526e-01, 4.63970602e-01, 3.69852930e-01],\n",
       "         [6.75490201e-01, 3.97058815e-01, 3.10784310e-01],\n",
       "         [6.27696097e-01, 3.61029416e-01, 2.68872559e-01],\n",
       "         ...,\n",
       "         [8.13725471e-01, 8.09803903e-01, 8.29411745e-01],\n",
       "         [8.31127465e-01, 8.27205896e-01, 8.46813738e-01],\n",
       "         [8.16666663e-01, 8.12745094e-01, 8.32352936e-01]],\n",
       " \n",
       "        [[7.35294104e-01, 4.59803909e-01, 3.74509811e-01],\n",
       "         [6.93382382e-01, 4.20098037e-01, 3.41911763e-01],\n",
       "         [5.81862748e-01, 3.19607854e-01, 2.35049024e-01],\n",
       "         ...,\n",
       "         [8.16911757e-01, 8.23774517e-01, 8.38480413e-01],\n",
       "         [8.21323514e-01, 8.28186274e-01, 8.42892170e-01],\n",
       "         [8.05882335e-01, 8.12745094e-01, 8.27450991e-01]],\n",
       " \n",
       "        [[7.17156887e-01, 4.50490206e-01, 3.74019593e-01],\n",
       "         [6.62500024e-01, 3.92892152e-01, 3.27205896e-01],\n",
       "         [5.88970602e-01, 3.22303921e-01, 2.47794122e-01],\n",
       "         ...,\n",
       "         [7.97058821e-01, 8.15686285e-01, 8.27450991e-01],\n",
       "         [7.94852912e-01, 8.13480377e-01, 8.25245082e-01],\n",
       "         [7.92156875e-01, 8.10784340e-01, 8.22549045e-01]],\n",
       " \n",
       "        ...,\n",
       " \n",
       "        [[7.24509776e-01, 7.12499976e-01, 6.98284328e-01],\n",
       "         [7.49509811e-01, 7.45098054e-01, 7.39950955e-01],\n",
       "         [6.90686285e-01, 6.84803903e-01, 6.87745094e-01],\n",
       "         ...,\n",
       "         [1.93627458e-02, 3.57843153e-02, 2.96568628e-02],\n",
       "         [7.59803923e-03, 1.81372557e-02, 7.59803923e-03],\n",
       "         [1.34803923e-02, 2.13235300e-02, 8.08823574e-03]],\n",
       " \n",
       "        [[7.01225519e-01, 7.00245082e-01, 6.98284328e-01],\n",
       "         [4.38725501e-01, 4.38725501e-01, 4.44607854e-01],\n",
       "         [7.89215714e-02, 8.38235319e-02, 8.87254924e-02],\n",
       "         ...,\n",
       "         [1.71568629e-03, 2.03431379e-02, 7.59803923e-03],\n",
       "         [0.00000000e+00, 1.27450982e-02, 2.20588245e-03],\n",
       "         [8.82352982e-03, 1.66666675e-02, 5.88235306e-03]],\n",
       " \n",
       "        [[4.28921580e-02, 3.89705896e-02, 6.44607842e-02],\n",
       "         [7.67156854e-02, 8.03921595e-02, 1.02696076e-01],\n",
       "         [9.06862766e-02, 1.06127448e-01, 1.20588236e-01],\n",
       "         ...,\n",
       "         [0.00000000e+00, 1.56862754e-02, 0.00000000e+00],\n",
       "         [0.00000000e+00, 1.96078438e-02, 0.00000000e+00],\n",
       "         [2.45098054e-04, 1.39705883e-02, 0.00000000e+00]]], dtype=float32),\n",
       " 1.0)"
      ]
     },
     "execution_count": 26,
     "metadata": {},
     "output_type": "execute_result"
    }
   ],
   "source": [
    "d"
   ]
  },
  {
   "cell_type": "code",
   "execution_count": 27,
   "id": "db0531ec-866b-43a3-a897-f06a0194e19f",
   "metadata": {},
   "outputs": [
    {
     "data": {
      "text/plain": [
       "1.0"
      ]
     },
     "execution_count": 27,
     "metadata": {},
     "output_type": "execute_result"
    }
   ],
   "source": [
    "d[2]"
   ]
  },
  {
   "cell_type": "code",
   "execution_count": 28,
   "id": "f809f7da-1190-4f50-a2ef-49fd5cddd0f2",
   "metadata": {},
   "outputs": [],
   "source": [
    "train_data = Data.take(round(len(Data)*.7))\n",
    "train_data = train_data.batch(16)\n",
    "train_data = train_data.prefetch(8)"
   ]
  },
  {
   "cell_type": "code",
   "execution_count": 29,
   "id": "75434821-adf0-406c-a439-43232e67fd0c",
   "metadata": {},
   "outputs": [],
   "source": [
    "td_sample = train_data.as_numpy_iterator()"
   ]
  },
  {
   "cell_type": "code",
   "execution_count": 30,
   "id": "7ef908f4-0eca-433f-a554-0e8d07ec9268",
   "metadata": {},
   "outputs": [],
   "source": [
    "td_samp = td_sample.next()"
   ]
  },
  {
   "cell_type": "code",
   "execution_count": 31,
   "id": "042506fd-28d4-47c6-bdba-a7e0ba85ccd4",
   "metadata": {},
   "outputs": [
    {
     "data": {
      "text/plain": [
       "16"
      ]
     },
     "execution_count": 31,
     "metadata": {},
     "output_type": "execute_result"
    }
   ],
   "source": [
    "len(td_samp[0])"
   ]
  },
  {
   "cell_type": "code",
   "execution_count": 32,
   "id": "f0826116-4a4b-422b-a7b5-ae5274be5e91",
   "metadata": {},
   "outputs": [],
   "source": [
    "test_data = Data.skip(round(len(Data)*.7))\n",
    "test_data = Data.take(round(len(Data)*.3))\n",
    "test_data = test_data.batch(16)\n",
    "test_data = test_data.prefetch(8)"
   ]
  },
  {
   "cell_type": "code",
   "execution_count": 33,
   "id": "efb0471f-9eea-49ec-8591-041f26f3a99e",
   "metadata": {},
   "outputs": [],
   "source": [
    "#embedding layers"
   ]
  },
  {
   "cell_type": "code",
   "execution_count": 34,
   "id": "bb280c43-522c-4457-9c10-2ff5cd073005",
   "metadata": {},
   "outputs": [],
   "source": [
    "def make_embed():\n",
    "    input_layer = Input(shape= (100,100,3))\n",
    "    cl1 = Conv2D(64,(10,10),activation= 'relu')(input_layer)\n",
    "    mp1 = MaxPooling2D(64,(2,2), padding = 'same')(cl1)\n",
    "    \n",
    "    cl2 = Conv2D(128,(7,7),activation= 'relu')(mp1)\n",
    "    mp2 = MaxPooling2D(64,(2,2), padding = 'same')(cl2)\n",
    "    \n",
    "    cl3 = Conv2D(128,(4,4),activation= 'relu')(mp2)\n",
    "    mp3 = MaxPooling2D(64,(2,2), padding = 'same')(cl3)\n",
    "    \n",
    "    cl4 = Conv2D(256,(4,4),activation= 'relu')(mp3)\n",
    "    f1 = Flatten()(cl4)\n",
    "    d1 = Dense(4096,activation = 'sigmoid')(f1)\n",
    "    \n",
    "    return Model(inputs = input_layer, outputs =d1 ,name ='embedding' )\n",
    "    "
   ]
  },
  {
   "cell_type": "code",
   "execution_count": 35,
   "id": "48ad76ad-96b5-4031-9c61-9cfecc805ae7",
   "metadata": {},
   "outputs": [],
   "source": [
    "embed = make_embed()"
   ]
  },
  {
   "cell_type": "code",
   "execution_count": 36,
   "id": "bb1197e0-2b23-4ba9-add2-4506fb9d007b",
   "metadata": {},
   "outputs": [
    {
     "name": "stdout",
     "output_type": "stream",
     "text": [
      "Model: \"embedding\"\n",
      "_________________________________________________________________\n",
      " Layer (type)                Output Shape              Param #   \n",
      "=================================================================\n",
      " input_1 (InputLayer)        [(None, 100, 100, 3)]     0         \n",
      "                                                                 \n",
      " conv2d (Conv2D)             (None, 91, 91, 64)        19264     \n",
      "                                                                 \n",
      " max_pooling2d (MaxPooling2D  (None, 46, 46, 64)       0         \n",
      " )                                                               \n",
      "                                                                 \n",
      " conv2d_1 (Conv2D)           (None, 40, 40, 128)       401536    \n",
      "                                                                 \n",
      " max_pooling2d_1 (MaxPooling  (None, 20, 20, 128)      0         \n",
      " 2D)                                                             \n",
      "                                                                 \n",
      " conv2d_2 (Conv2D)           (None, 17, 17, 128)       262272    \n",
      "                                                                 \n",
      " max_pooling2d_2 (MaxPooling  (None, 9, 9, 128)        0         \n",
      " 2D)                                                             \n",
      "                                                                 \n",
      " conv2d_3 (Conv2D)           (None, 6, 6, 256)         524544    \n",
      "                                                                 \n",
      " flatten (Flatten)           (None, 9216)              0         \n",
      "                                                                 \n",
      " dense (Dense)               (None, 4096)              37752832  \n",
      "                                                                 \n",
      "=================================================================\n",
      "Total params: 38,960,448\n",
      "Trainable params: 38,960,448\n",
      "Non-trainable params: 0\n",
      "_________________________________________________________________\n"
     ]
    }
   ],
   "source": [
    "embed.summary()"
   ]
  },
  {
   "cell_type": "code",
   "execution_count": 38,
   "id": "404679d8-0e98-4aad-b292-9a142cf854ff",
   "metadata": {},
   "outputs": [],
   "source": [
    "class L1Dist(Layer):\n",
    "    def __init__(self,**kwargs):\n",
    "        super().__init__()\n",
    "    def call(self,input_embed,val_embed):\n",
    "        return tf.math.abs(input_embed-val_embed)"
   ]
  },
  {
   "cell_type": "code",
   "execution_count": 39,
   "id": "99db741f-d310-4c58-916e-4b078a8377af",
   "metadata": {},
   "outputs": [],
   "source": [
    "l1 = L1Dist()"
   ]
  },
  {
   "cell_type": "code",
   "execution_count": 40,
   "id": "88195d0b-c7c5-4e87-8d48-1c6633174bfe",
   "metadata": {},
   "outputs": [],
   "source": [
    "input_image = Input(name='input_img', shape=(100,100,3))\n",
    "validation_image = Input(name='validation_img', shape=(100,100,3))"
   ]
  },
  {
   "cell_type": "code",
   "execution_count": 41,
   "id": "542075f9-628e-4bd1-9b7d-9cedf1cae4cf",
   "metadata": {},
   "outputs": [],
   "source": [
    "inp_embedding = embed(input_image)\n",
    "val_embedding = embed(validation_image)"
   ]
  },
  {
   "cell_type": "code",
   "execution_count": 42,
   "id": "8f4c3664-549e-4aa5-9dd6-71104f8f446b",
   "metadata": {},
   "outputs": [],
   "source": [
    "siamese_layer = L1Dist()"
   ]
  },
  {
   "cell_type": "code",
   "execution_count": null,
   "id": "1c969ace-93b1-4c49-a3b0-df1f163caa93",
   "metadata": {},
   "outputs": [],
   "source": []
  },
  {
   "cell_type": "code",
   "execution_count": 43,
   "id": "04088620-bf3e-4e9d-8fd3-374bc8c654ef",
   "metadata": {},
   "outputs": [],
   "source": [
    "def make_siam_model():\n",
    "    inp_img = Input(name= 'inp_img' , shape = (100,100,3))\n",
    "    val_img = Input(name= 'val_img' , shape = (100,100,3))\n",
    "    Siam_layer  = L1Dist()\n",
    "    Siam_layer._name = 'distance'\n",
    "    distance = Siam_layer(embed(inp_img),embed(val_img))\n",
    "    classifier = Dense(1, activation = 'sigmoid')(distance)\n",
    "    return Model(inputs = [inp_img,val_img], outputs =classifier ,name= 'Sesmie' )"
   ]
  },
  {
   "cell_type": "code",
   "execution_count": 44,
   "id": "548341fe-6d6d-4ff4-96f7-dc0433d0b0c7",
   "metadata": {},
   "outputs": [],
   "source": [
    "siam_model = make_siam_model()"
   ]
  },
  {
   "cell_type": "code",
   "execution_count": 45,
   "id": "5a351b9d-8c31-4efc-86cd-1c903cacc7e5",
   "metadata": {},
   "outputs": [
    {
     "name": "stdout",
     "output_type": "stream",
     "text": [
      "Model: \"Sesmie\"\n",
      "__________________________________________________________________________________________________\n",
      " Layer (type)                   Output Shape         Param #     Connected to                     \n",
      "==================================================================================================\n",
      " inp_img (InputLayer)           [(None, 100, 100, 3  0           []                               \n",
      "                                )]                                                                \n",
      "                                                                                                  \n",
      " val_img (InputLayer)           [(None, 100, 100, 3  0           []                               \n",
      "                                )]                                                                \n",
      "                                                                                                  \n",
      " embedding (Functional)         (None, 4096)         38960448    ['inp_img[0][0]',                \n",
      "                                                                  'val_img[0][0]']                \n",
      "                                                                                                  \n",
      " distance (L1Dist)              (None, 4096)         0           ['embedding[2][0]',              \n",
      "                                                                  'embedding[3][0]']              \n",
      "                                                                                                  \n",
      " dense_1 (Dense)                (None, 1)            4097        ['distance[0][0]']               \n",
      "                                                                                                  \n",
      "==================================================================================================\n",
      "Total params: 38,964,545\n",
      "Trainable params: 38,964,545\n",
      "Non-trainable params: 0\n",
      "__________________________________________________________________________________________________\n"
     ]
    }
   ],
   "source": [
    "siam_model.summary()"
   ]
  },
  {
   "cell_type": "code",
   "execution_count": 46,
   "id": "66831608-3573-4fd5-96e1-53cf8d213733",
   "metadata": {},
   "outputs": [],
   "source": [
    "binary_cross_loss = tf.losses.BinaryCrossentropy()"
   ]
  },
  {
   "cell_type": "code",
   "execution_count": 47,
   "id": "f38db1a3-e6dd-4fdb-86f3-fb90472dc0bd",
   "metadata": {},
   "outputs": [],
   "source": [
    "opt = tf.keras.optimizers.Adam(1e-4) # 0.0001"
   ]
  },
  {
   "cell_type": "code",
   "execution_count": 48,
   "id": "24d2c463-d8cd-44df-b6a6-9cfcf22a261d",
   "metadata": {},
   "outputs": [],
   "source": [
    "checkpoint_dir = './training_checkpoints'\n",
    "checkpoint_prefix = os.path.join(checkpoint_dir, 'ckpt')\n",
    "checkpoint = tf.train.Checkpoint(opt=opt, siam_model=siam_model)"
   ]
  },
  {
   "cell_type": "code",
   "execution_count": 49,
   "id": "4e7676d8-2fc8-46bb-af8a-360a2e9d6c2a",
   "metadata": {},
   "outputs": [],
   "source": [
    "test_batch = train_data.as_numpy_iterator()"
   ]
  },
  {
   "cell_type": "code",
   "execution_count": 50,
   "id": "5687d65b-20a1-4346-aabf-3ef7f5be1578",
   "metadata": {},
   "outputs": [],
   "source": [
    "batch_1 = test_batch.next()"
   ]
  },
  {
   "cell_type": "code",
   "execution_count": 51,
   "id": "82bf511d-234d-4ff8-8ff4-1dc5229f7a7d",
   "metadata": {},
   "outputs": [],
   "source": [
    "X = batch_1[:2]"
   ]
  },
  {
   "cell_type": "code",
   "execution_count": 52,
   "id": "571c7e54-efd7-4162-b07f-2bceb6586f5b",
   "metadata": {},
   "outputs": [],
   "source": [
    "Y = batch_1[2]"
   ]
  },
  {
   "cell_type": "code",
   "execution_count": 53,
   "id": "9db77717-6519-45b0-a53b-3478cc316a55",
   "metadata": {},
   "outputs": [],
   "source": [
    "@tf.function\n",
    "def train_step(batch):\n",
    "    \n",
    "    # Record all of our operations \n",
    "    with tf.GradientTape() as tape:     \n",
    "        # Get anchor and positive/negative image\n",
    "        X = batch[:2]\n",
    "        # Get label\n",
    "        y = batch[2]\n",
    "        \n",
    "        # Forward pass\n",
    "        yhat = siam_model(X, training=True)\n",
    "        # Calculate loss\n",
    "        loss = binary_cross_loss(y, yhat)\n",
    "    print(loss)\n",
    "        \n",
    "    # Calculate gradients\n",
    "    grad = tape.gradient(loss, siam_model.trainable_variables)\n",
    "    \n",
    "    # Calculate updated weights and apply to siamese model\n",
    "    opt.apply_gradients(zip(grad, siam_model.trainable_variables))\n",
    "    \n",
    "    # Return loss\n",
    "    return loss"
   ]
  },
  {
   "cell_type": "code",
   "execution_count": 54,
   "id": "14a331da-c6be-4600-992d-d120ae5ede47",
   "metadata": {},
   "outputs": [],
   "source": [
    "def train(data, EPOCHS):\n",
    "    # Loop through epochs\n",
    "    for epoch in range(1, EPOCHS+1):\n",
    "        print('\\n Epoch {}/{}'.format(epoch, EPOCHS))\n",
    "        progbar = tf.keras.utils.Progbar(len(data))\n",
    "        \n",
    "        # Loop through each batch\n",
    "        for idx, batch in enumerate(data):\n",
    "            # Run train step here\n",
    "            train_step(batch)\n",
    "            progbar.update(idx+1)\n",
    "        \n",
    "        # Save checkpoints\n",
    "        if epoch % 10 == 0: \n",
    "            checkpoint.save(file_prefix=checkpoint_prefix)"
   ]
  },
  {
   "cell_type": "code",
   "execution_count": 55,
   "id": "3b67704e-fab7-4acc-957a-83c03711b183",
   "metadata": {},
   "outputs": [],
   "source": [
    "EPOCHS = 50"
   ]
  },
  {
   "cell_type": "code",
   "execution_count": 56,
   "id": "370fcff6-4c9d-4843-b090-511f07e546d0",
   "metadata": {},
   "outputs": [
    {
     "name": "stdout",
     "output_type": "stream",
     "text": [
      "\n",
      " Epoch 1/50\n",
      "Tensor(\"binary_crossentropy/weighted_loss/value:0\", shape=(), dtype=float32)\n",
      "Tensor(\"binary_crossentropy/weighted_loss/value:0\", shape=(), dtype=float32)\n",
      "43/44 [============================>.] - ETA: 0sTensor(\"binary_crossentropy/weighted_loss/value:0\", shape=(), dtype=float32)\n",
      "44/44 [==============================] - 31s 442ms/step\n",
      "\n",
      " Epoch 2/50\n",
      "44/44 [==============================] - 17s 401ms/step\n",
      "\n",
      " Epoch 3/50\n",
      "44/44 [==============================] - 18s 403ms/step\n",
      "\n",
      " Epoch 4/50\n",
      "44/44 [==============================] - 18s 403ms/step\n",
      "\n",
      " Epoch 5/50\n",
      "44/44 [==============================] - 18s 405ms/step\n",
      "\n",
      " Epoch 6/50\n",
      "44/44 [==============================] - 18s 406ms/step\n",
      "\n",
      " Epoch 7/50\n",
      "44/44 [==============================] - 18s 407ms/step\n",
      "\n",
      " Epoch 8/50\n",
      "44/44 [==============================] - 18s 407ms/step\n",
      "\n",
      " Epoch 9/50\n",
      "44/44 [==============================] - 18s 408ms/step\n",
      "\n",
      " Epoch 10/50\n",
      "44/44 [==============================] - 18s 406ms/step\n",
      "\n",
      " Epoch 11/50\n",
      "44/44 [==============================] - 18s 409ms/step\n",
      "\n",
      " Epoch 12/50\n",
      "44/44 [==============================] - 18s 409ms/step\n",
      "\n",
      " Epoch 13/50\n",
      "44/44 [==============================] - 18s 409ms/step\n",
      "\n",
      " Epoch 14/50\n",
      "44/44 [==============================] - 18s 408ms/step\n",
      "\n",
      " Epoch 15/50\n",
      "44/44 [==============================] - 18s 410ms/step\n",
      "\n",
      " Epoch 16/50\n",
      "44/44 [==============================] - 18s 409ms/step\n",
      "\n",
      " Epoch 17/50\n",
      "44/44 [==============================] - 18s 409ms/step\n",
      "\n",
      " Epoch 18/50\n",
      "44/44 [==============================] - 18s 409ms/step\n",
      "\n",
      " Epoch 19/50\n",
      "44/44 [==============================] - 18s 409ms/step\n",
      "\n",
      " Epoch 20/50\n",
      "44/44 [==============================] - 18s 409ms/step\n",
      "\n",
      " Epoch 21/50\n",
      "44/44 [==============================] - 18s 412ms/step\n",
      "\n",
      " Epoch 22/50\n",
      "44/44 [==============================] - 18s 409ms/step\n",
      "\n",
      " Epoch 23/50\n",
      "44/44 [==============================] - 18s 408ms/step\n",
      "\n",
      " Epoch 24/50\n",
      "44/44 [==============================] - 18s 409ms/step\n",
      "\n",
      " Epoch 25/50\n",
      "44/44 [==============================] - 18s 409ms/step\n",
      "\n",
      " Epoch 26/50\n",
      "44/44 [==============================] - 18s 411ms/step\n",
      "\n",
      " Epoch 27/50\n",
      "44/44 [==============================] - 18s 409ms/step\n",
      "\n",
      " Epoch 28/50\n",
      "44/44 [==============================] - 18s 409ms/step\n",
      "\n",
      " Epoch 29/50\n",
      "44/44 [==============================] - 18s 410ms/step\n",
      "\n",
      " Epoch 30/50\n",
      "44/44 [==============================] - 18s 410ms/step\n",
      "\n",
      " Epoch 31/50\n",
      "44/44 [==============================] - 18s 410ms/step\n",
      "\n",
      " Epoch 32/50\n",
      "44/44 [==============================] - 18s 410ms/step\n",
      "\n",
      " Epoch 33/50\n",
      "44/44 [==============================] - 18s 410ms/step\n",
      "\n",
      " Epoch 34/50\n",
      "44/44 [==============================] - 18s 410ms/step\n",
      "\n",
      " Epoch 35/50\n",
      "44/44 [==============================] - 18s 410ms/step\n",
      "\n",
      " Epoch 36/50\n",
      "44/44 [==============================] - 18s 410ms/step\n",
      "\n",
      " Epoch 37/50\n",
      "44/44 [==============================] - 18s 410ms/step\n",
      "\n",
      " Epoch 38/50\n",
      "44/44 [==============================] - 18s 409ms/step\n",
      "\n",
      " Epoch 39/50\n",
      "44/44 [==============================] - 18s 410ms/step\n",
      "\n",
      " Epoch 40/50\n",
      "44/44 [==============================] - 18s 409ms/step\n",
      "\n",
      " Epoch 41/50\n",
      "44/44 [==============================] - 18s 408ms/step\n",
      "\n",
      " Epoch 42/50\n",
      "44/44 [==============================] - 18s 410ms/step\n",
      "\n",
      " Epoch 43/50\n",
      "44/44 [==============================] - 18s 410ms/step\n",
      "\n",
      " Epoch 44/50\n",
      "44/44 [==============================] - 18s 411ms/step\n",
      "\n",
      " Epoch 45/50\n",
      "44/44 [==============================] - 18s 409ms/step\n",
      "\n",
      " Epoch 46/50\n",
      "44/44 [==============================] - 18s 410ms/step\n",
      "\n",
      " Epoch 47/50\n",
      "44/44 [==============================] - 18s 411ms/step\n",
      "\n",
      " Epoch 48/50\n",
      "44/44 [==============================] - 18s 410ms/step\n",
      "\n",
      " Epoch 49/50\n",
      "44/44 [==============================] - 18s 410ms/step\n",
      "\n",
      " Epoch 50/50\n",
      "44/44 [==============================] - 18s 411ms/step\n"
     ]
    }
   ],
   "source": [
    "train(train_data, EPOCHS)"
   ]
  },
  {
   "cell_type": "code",
   "execution_count": 129,
   "id": "84bb699a-6141-4c0f-a9a0-eea0463af8c0",
   "metadata": {},
   "outputs": [
    {
     "data": {
      "text/plain": [
       "tensorflow.python.data.ops.dataset_ops.PrefetchDataset"
      ]
     },
     "execution_count": 129,
     "metadata": {},
     "output_type": "execute_result"
    }
   ],
   "source": [
    "# type(train_data)"
   ]
  },
  {
   "cell_type": "code",
   "execution_count": 58,
   "id": "46630a6e-6e1f-42e5-85ee-156cf4830f3a",
   "metadata": {},
   "outputs": [],
   "source": [
    "tf.data.experimental.save(test_data , 'Sesmi/test_data')"
   ]
  },
  {
   "cell_type": "code",
   "execution_count": 133,
   "id": "89b15d9b-79ad-40e2-8ede-1388d0cc590d",
   "metadata": {},
   "outputs": [
    {
     "name": "stdout",
     "output_type": "stream",
     "text": [
      "2.7.0\n"
     ]
    }
   ],
   "source": [
    "print(tf.__version__)"
   ]
  },
  {
   "cell_type": "code",
   "execution_count": 57,
   "id": "48fd06f3-b683-4c0a-b5d1-d540f85a7adb",
   "metadata": {},
   "outputs": [
    {
     "data": {
      "text/plain": [
       "True"
      ]
     },
     "execution_count": 57,
     "metadata": {},
     "output_type": "execute_result"
    }
   ],
   "source": [
    "len(tf.config.list_physical_devices('GPU'))>0\n"
   ]
  },
  {
   "cell_type": "code",
   "execution_count": null,
   "id": "e5b323b9-1b4a-408b-857f-8b32e66f4811",
   "metadata": {},
   "outputs": [],
   "source": []
  }
 ],
 "metadata": {
  "kernelspec": {
   "display_name": "Python 3.9 (Tflow)",
   "language": "python",
   "name": "tflow"
  },
  "language_info": {
   "codemirror_mode": {
    "name": "ipython",
    "version": 3
   },
   "file_extension": ".py",
   "mimetype": "text/x-python",
   "name": "python",
   "nbconvert_exporter": "python",
   "pygments_lexer": "ipython3",
   "version": "3.9.18"
  }
 },
 "nbformat": 4,
 "nbformat_minor": 5
}
